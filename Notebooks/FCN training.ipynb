{
 "cells": [
  {
   "cell_type": "markdown",
   "id": "8cc6ce19-1180-42d9-8b75-725ffd8ddd64",
   "metadata": {},
   "source": [
    "# FCN "
   ]
  },
  {
   "cell_type": "code",
   "execution_count": null,
   "id": "49a276d4-6e72-4a7a-bc06-2787308679bc",
   "metadata": {},
   "outputs": [],
   "source": [
    "import numpy as np\n",
    "import pandas as pd\n",
    "import matplotlib.pyplot as plt\n",
    "import seaborn as sns\n",
    "from sklearn.metrics import accuracy_score, confusion_matrix, ConfusionMatrixDisplay, precision_score, roc_auc_score, recall_score\n",
    "import torch\n",
    "from torch.utils.data import DataLoader\n",
    "import pytorch_lightning as pl\n",
    "from pytorch_lightning.callbacks import EarlyStopping\n",
    "from FCN import QPPClassifier, QPPDataset\n",
    "\n",
    "import warnings\n",
    "warnings.filterwarnings('ignore')"
   ]
  },
  {
   "cell_type": "markdown",
   "id": "99d60607-ea91-4881-a1e1-f2544b8c20a7",
   "metadata": {},
   "source": [
    "## Training"
   ]
  },
  {
   "cell_type": "code",
   "execution_count": null,
   "id": "b3541c9c-d71c-4904-a397-e972f72280c1",
   "metadata": {},
   "outputs": [],
   "source": [
    "labels_train = 'path_to_labels_train.csv' \n",
    "labels_val = 'path_to_labels_val.csv'\n",
    "labels_test = 'path_to_labels_test.csv'\n",
    "timeseries_dir =  'path_to_dir_with_flare_fits'\n",
    "\n",
    "dataset_train = QPPDataset(labels_train, timeseries_dir)\n",
    "dataset_val = QPPDataset(labels_val, timeseries_dir)\n",
    "dataset_test = QPPDataset(labels_test, timeseries_dir)\n",
    "\n",
    "train_dataloader = DataLoader(dataset_train, batch_size=64, num_workers=7, persistent_workers=True)\n",
    "val_dataloader = DataLoader(dataset_val, batch_size=128, num_workers=7, persistent_workers=True)\n",
    "test_dataloader = DataLoader(dataset_test, batch_size=128, num_workers=7, persistent_workers=True)\n",
    "\n",
    "model = QPPClassifier(in_channels=2, layers_sizes=(64, 128, 64), kernel_sizes=(8, 5, 3))\n",
    "trainer = pl.Trainer(max_epochs=100, callbacks=[EarlyStopping(monitor=\"val_loss\", mode=\"min\")])\n",
    "trainer.fit(model, train_dataloader, val_dataloader)"
   ]
  },
  {
   "cell_type": "markdown",
   "id": "7094096a-bdac-4947-8ca4-052b674a87d0",
   "metadata": {},
   "source": [
    "## Validation"
   ]
  },
  {
   "cell_type": "code",
   "execution_count": null,
   "id": "641c0581-d1ca-42b5-bc6a-96ddb2eeb76e",
   "metadata": {},
   "outputs": [],
   "source": [
    "m_path = \"path_to_model_weights.ckpt\"\n",
    "\n",
    "model = QPPClassifier.load_from_checkpoint(m_path)\n",
    "model.eval()\n",
    "\n",
    "np.random.seed(42)\n",
    "\n",
    "y_hats = []\n",
    "ys = []\n",
    "\n",
    "for i in range(len(dataset_test)): \n",
    "    x, y = dataset_test[i]\n",
    "    x = torch.from_numpy(x.reshape((1, 2, 300))).to(device=model.device)\n",
    "\n",
    "    with torch.no_grad():\n",
    "        y_hat = model(x)\n",
    "        y_hats.append(y_hat.cpu().numpy().flatten()[0])\n",
    "    ys.append(y)\n",
    "\n",
    "y_hats = np.array(y_hats)\n",
    "\n",
    "thres = 0.5\n",
    "y_hats1 = y_hats.copy()\n",
    "y_hats1[y_hats1 < thres] = 0\n",
    "y_hats1[y_hats1 >= thres] = 1\n",
    "\n",
    "print('accuracy:', accuracy_score(ys, y_hats1))\n",
    "print('precision:', precision_score(ys, y_hats1))\n",
    "print('recall:', recall_score(ys, y_hats1))\n",
    "print('roc-auc:', roc_auc_score(ys, y_hats))\n",
    "cm = confusion_matrix(ys, y_hats1)\n",
    "cmplt = ConfusionMatrixDisplay(cm, display_labels=['No', 'Yes']).plot()"
   ]
  }
 ],
 "metadata": {
  "kernelspec": {
   "display_name": "qpp",
   "language": "python",
   "name": "qpp"
  },
  "language_info": {
   "codemirror_mode": {
    "name": "ipython",
    "version": 3
   },
   "file_extension": ".py",
   "mimetype": "text/x-python",
   "name": "python",
   "nbconvert_exporter": "python",
   "pygments_lexer": "ipython3",
   "version": "3.12.1"
  }
 },
 "nbformat": 4,
 "nbformat_minor": 5
}
